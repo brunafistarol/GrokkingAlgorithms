{
 "cells": [
  {
   "cell_type": "markdown",
   "id": "77e04714",
   "metadata": {},
   "source": [
    "# Chapter 5 - Hash Tables"
   ]
  },
  {
   "cell_type": "markdown",
   "id": "fbf20767",
   "metadata": {},
   "source": [
    "A hash function is a function where you put in any kind of data and you get back a number, which means it tells you where the data you want is stored. A hash table is a hash function associated to an array."
   ]
  }
 ],
 "metadata": {
  "kernelspec": {
   "display_name": "Python 3 (ipykernel)",
   "language": "python",
   "name": "python3"
  },
  "language_info": {
   "codemirror_mode": {
    "name": "ipython",
    "version": 3
   },
   "file_extension": ".py",
   "mimetype": "text/x-python",
   "name": "python",
   "nbconvert_exporter": "python",
   "pygments_lexer": "ipython3",
   "version": "3.9.7"
  }
 },
 "nbformat": 4,
 "nbformat_minor": 5
}
