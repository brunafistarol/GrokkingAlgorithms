{
 "cells": [
  {
   "cell_type": "markdown",
   "id": "ce394ae8",
   "metadata": {},
   "source": [
    "# Chapter 2 - Selection Sort"
   ]
  },
  {
   "cell_type": "markdown",
   "id": "ef134fab",
   "metadata": {},
   "source": [
    "## Linked lists\n",
    "\n",
    "Every item in the list contais its value and also the address of the next item\n",
    "\n",
    "Pros:\n",
    " - you don't need to have all slots together in the memory\n",
    " - better to store if you are receiving values in an online manner; insert an element is O(1) no matter the position.\n",
    " - good if you are going to read all the items one at time\n",
    " \n",
    "Cons:\n",
    " - you need to keep jumping around in order to get a value in some position (O(n))\n",
    " \n",
    "\n",
    " ## Arrays\n",
    "\n",
    "You know the memory address for every item because they are stored next to each other.\n",
    "\n",
    "Pros:\n",
    " - great to read random elements, you can look up any element in your array instantly (O(1))\n",
    " \n",
    "Cons:\n",
    " - you need to have enought space together; insertion is O(n) because depending where are you inserting, you need to move another elements. In the worst case, you need to move everybody to insert some element in firts position."
   ]
  },
  {
   "cell_type": "markdown",
   "id": "8aac735a",
   "metadata": {},
   "source": [
    "## Selection Sort"
   ]
  },
  {
   "cell_type": "markdown",
   "id": "630bf3a2",
   "metadata": {},
   "source": [
    "1: find the smallest element\n",
    "\n",
    "2: put it in a new array"
   ]
  },
  {
   "cell_type": "code",
   "execution_count": 1,
   "id": "ce88915c",
   "metadata": {},
   "outputs": [],
   "source": [
    "# find the smalest element in an array\n",
    "\n",
    "def findSmallest(arr):\n",
    "    smallest = arr[0]\n",
    "    smallest_index = 0\n",
    "    for i in range(1, len(arr)):\n",
    "        if arr[i] < smallest:\n",
    "            smallest = arr[i]\n",
    "            smallest_index = i\n",
    "    return(smallest_index)\n",
    "\n",
    "# using this function to do selection sort:\n",
    "\n",
    "def selectionSort(arr):\n",
    "    new = []\n",
    "    for i in range(len(arr)):\n",
    "        smallest = findSmallest(arr)\n",
    "        new.append(arr.pop(smallest))\n",
    "    return(new)"
   ]
  },
  {
   "cell_type": "code",
   "execution_count": 2,
   "id": "e93445b3",
   "metadata": {},
   "outputs": [
    {
     "data": {
      "text/plain": [
       "[2, 3, 4, 5, 5, 8, 9]"
      ]
     },
     "execution_count": 2,
     "metadata": {},
     "output_type": "execute_result"
    }
   ],
   "source": [
    "selectionSort([4, 5, 3, 9, 8, 2, 5])"
   ]
  }
 ],
 "metadata": {
  "kernelspec": {
   "display_name": "Python 3 (ipykernel)",
   "language": "python",
   "name": "python3"
  },
  "language_info": {
   "codemirror_mode": {
    "name": "ipython",
    "version": 3
   },
   "file_extension": ".py",
   "mimetype": "text/x-python",
   "name": "python",
   "nbconvert_exporter": "python",
   "pygments_lexer": "ipython3",
   "version": "3.9.7"
  }
 },
 "nbformat": 4,
 "nbformat_minor": 5
}
