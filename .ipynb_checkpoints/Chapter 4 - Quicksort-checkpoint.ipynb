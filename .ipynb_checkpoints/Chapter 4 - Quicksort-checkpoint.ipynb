{
 "cells": [
  {
   "cell_type": "markdown",
   "id": "699219c3",
   "metadata": {},
   "source": [
    "# Chapter 4 - Quicksort"
   ]
  },
  {
   "cell_type": "markdown",
   "id": "a57aa331",
   "metadata": {},
   "source": [
    "## Divide and Conquer\n",
    "\n",
    "How it works:\n",
    "\n",
    "1) Figure out a simple case as the base case\n",
    "\n",
    "2) Figure out how to reduce your problem and get to the base case\n",
    "\n",
    "It is not an algorithm. It is a way to think abou a problem."
   ]
  },
  {
   "cell_type": "markdown",
   "id": "e0dcccac",
   "metadata": {},
   "source": [
    "*Tip: when you're writing a recursive function involving an rray, the base case is often an empty array or an array with one element. If you're stuck, try that first.*"
   ]
  },
  {
   "cell_type": "code",
   "execution_count": 70,
   "id": "d0892dc0",
   "metadata": {},
   "outputs": [],
   "source": [
    "a = [1, 2, 3, 40, 5, 10, 20]"
   ]
  },
  {
   "cell_type": "code",
   "execution_count": 11,
   "id": "66922f3a",
   "metadata": {},
   "outputs": [],
   "source": [
    "def recursiveSum(arr):\n",
    "    x = arr[0]\n",
    "    arr = arr[1:]\n",
    "    if arr == []:\n",
    "        return(x)\n",
    "    else:\n",
    "        return(x + recursiveSum(arr))"
   ]
  },
  {
   "cell_type": "code",
   "execution_count": 23,
   "id": "a7aebf79",
   "metadata": {},
   "outputs": [
    {
     "data": {
      "text/plain": [
       "81"
      ]
     },
     "execution_count": 23,
     "metadata": {},
     "output_type": "execute_result"
    }
   ],
   "source": [
    "recursiveSum(a)"
   ]
  },
  {
   "cell_type": "code",
   "execution_count": 14,
   "id": "e9ffea09",
   "metadata": {},
   "outputs": [],
   "source": [
    "def recursiveCount(arr):\n",
    "    arr = arr[1:]\n",
    "    if arr == []:\n",
    "        return(1)\n",
    "    else:\n",
    "        return 1 + recursiveCount(arr)"
   ]
  },
  {
   "cell_type": "code",
   "execution_count": 24,
   "id": "80da522d",
   "metadata": {},
   "outputs": [
    {
     "data": {
      "text/plain": [
       "7"
      ]
     },
     "execution_count": 24,
     "metadata": {},
     "output_type": "execute_result"
    }
   ],
   "source": [
    "recursiveCount(a)"
   ]
  },
  {
   "cell_type": "code",
   "execution_count": 34,
   "id": "1d524316",
   "metadata": {},
   "outputs": [],
   "source": [
    "def recursiveMax(arr):\n",
    "    \n",
    "    x = arr[0]\n",
    "    arr = arr[1:]\n",
    "    \n",
    "    if len(arr) > 1:\n",
    "        x = recursiveMax(arr)\n",
    "    \n",
    "    if x > arr[0]:\n",
    "        return(x)\n",
    "    else:\n",
    "        return(arr[0])"
   ]
  },
  {
   "cell_type": "code",
   "execution_count": 35,
   "id": "ce4c4ecd",
   "metadata": {},
   "outputs": [
    {
     "data": {
      "text/plain": [
       "40"
      ]
     },
     "execution_count": 35,
     "metadata": {},
     "output_type": "execute_result"
    }
   ],
   "source": [
    "recursiveMax(a)"
   ]
  },
  {
   "cell_type": "code",
   "execution_count": 41,
   "id": "e343bbad",
   "metadata": {},
   "outputs": [],
   "source": [
    "import random"
   ]
  },
  {
   "cell_type": "code",
   "execution_count": 68,
   "id": "a20a5c84",
   "metadata": {},
   "outputs": [],
   "source": [
    "def quickSort(array):\n",
    "    if len(array) < 2:\n",
    "        return(array)\n",
    "    else:\n",
    "        pivot_idx = random.choice(range(len(array)))\n",
    "        pivot = array[pivot_idx]\n",
    "        array.pop(pivot_idx)\n",
    "        left = [i for i in array if i <= pivot]\n",
    "        right = [i for i in array if i > pivot]\n",
    "        return quickSort(left) + [pivot] + quickSort(right)\n",
    "    "
   ]
  },
  {
   "cell_type": "code",
   "execution_count": 71,
   "id": "8137fcb7",
   "metadata": {},
   "outputs": [
    {
     "data": {
      "text/plain": [
       "[1, 2, 3, 5, 10, 20, 40]"
      ]
     },
     "execution_count": 71,
     "metadata": {},
     "output_type": "execute_result"
    }
   ],
   "source": [
    "quickSort(a)"
   ]
  }
 ],
 "metadata": {
  "kernelspec": {
   "display_name": "Python 3 (ipykernel)",
   "language": "python",
   "name": "python3"
  },
  "language_info": {
   "codemirror_mode": {
    "name": "ipython",
    "version": 3
   },
   "file_extension": ".py",
   "mimetype": "text/x-python",
   "name": "python",
   "nbconvert_exporter": "python",
   "pygments_lexer": "ipython3",
   "version": "3.9.7"
  }
 },
 "nbformat": 4,
 "nbformat_minor": 5
}
