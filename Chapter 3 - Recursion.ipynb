{
 "cells": [
  {
   "cell_type": "markdown",
   "id": "833824b7",
   "metadata": {},
   "source": [
    "# Chapter 3 - Recursion"
   ]
  },
  {
   "cell_type": "markdown",
   "id": "9d0159ab",
   "metadata": {},
   "source": [
    "### Stack (pilha)"
   ]
  },
  {
   "cell_type": "markdown",
   "id": "2a761425",
   "metadata": {},
   "source": [
    "Last In First Out: is a list of operations where the last thing added to this list is the first to be done. This happens inside a recursion code or a function calling another functions: The previous function called is paused in order to execute another function called later. "
   ]
  },
  {
   "cell_type": "markdown",
   "id": "cdc02a09",
   "metadata": {},
   "source": [
    "##### Push: put a new task at the top of the list\n",
    "##### Pop: remove the task at the top of the list"
   ]
  },
  {
   "cell_type": "code",
   "execution_count": null,
   "id": "1973879a",
   "metadata": {},
   "outputs": [],
   "source": []
  }
 ],
 "metadata": {
  "kernelspec": {
   "display_name": "Python 3 (ipykernel)",
   "language": "python",
   "name": "python3"
  },
  "language_info": {
   "codemirror_mode": {
    "name": "ipython",
    "version": 3
   },
   "file_extension": ".py",
   "mimetype": "text/x-python",
   "name": "python",
   "nbconvert_exporter": "python",
   "pygments_lexer": "ipython3",
   "version": "3.9.7"
  }
 },
 "nbformat": 4,
 "nbformat_minor": 5
}
